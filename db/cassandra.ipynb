{
 "cells": [
  {
   "cell_type": "code",
   "execution_count": 1,
   "id": "ed2b98c0",
   "metadata": {},
   "outputs": [],
   "source": [
    "import pandas as pd\n",
    "import numpy as np\n",
    "import os\n",
    "from cassandra.cluster import Cluster\n",
    "from datetime import datetime\n",
    "import plotly.graph_objects as go\n",
    "import settrade_v2\n",
    "from settrade_v2 import Investor\n",
    "import time"
   ]
  },
  {
   "cell_type": "code",
   "execution_count": 2,
   "id": "538a9a6a",
   "metadata": {},
   "outputs": [],
   "source": [
    "cluster = Cluster(['127.0.0.1']) \n",
    "session = cluster.connect()"
   ]
  },
  {
   "cell_type": "code",
   "execution_count": 3,
   "id": "73e5f1ed",
   "metadata": {},
   "outputs": [
    {
     "name": "stdout",
     "output_type": "stream",
     "text": [
      "📂 Keyspaces:\n",
      "- system_auth\n",
      "- system_schema\n",
      "- system_distributed\n",
      "- system\n",
      "- settrade_api\n",
      "- system_traces\n"
     ]
    }
   ],
   "source": [
    "rows = session.execute(\"SELECT keyspace_name FROM system_schema.keyspaces;\")\n",
    "print(\"📂 Keyspaces:\")\n",
    "for row in rows:\n",
    "    print(\"-\", row.keyspace_name)"
   ]
  },
  {
   "cell_type": "code",
   "execution_count": 6,
   "id": "68ba1cfb",
   "metadata": {},
   "outputs": [
    {
     "name": "stdout",
     "output_type": "stream",
     "text": [
      "\n",
      "📑 Tables in keyspace 'settrade_api':\n",
      "- candlestick_data\n"
     ]
    }
   ],
   "source": [
    "keyspace = \"settrade_api\"   # 👈 แก้เป็น keyspace ของคุณ\n",
    "rows = session.execute(f\"SELECT table_name FROM system_schema.tables WHERE keyspace_name='{keyspace}';\")\n",
    "print(f\"\\n📑 Tables in keyspace '{keyspace}':\")\n",
    "for row in rows:\n",
    "    print(\"-\", row.table_name)"
   ]
  },
  {
   "cell_type": "code",
   "execution_count": 7,
   "id": "e89d14a2",
   "metadata": {},
   "outputs": [
    {
     "name": "stdout",
     "output_type": "stream",
     "text": [
      "\n",
      "📊 Columns in settrade_api.candlestick_data:\n",
      "- close_price (regular): float\n",
      "- high_price (regular): float\n",
      "- low_price (regular): float\n",
      "- open_price (regular): float\n",
      "- symbol (regular): text\n",
      "- time (partition_key): timestamp\n",
      "- value (regular): float\n",
      "- volume (regular): int\n"
     ]
    }
   ],
   "source": [
    "table = \"candlestick_data\"\n",
    "rows = session.execute(f\"SELECT column_name, kind, type FROM system_schema.columns WHERE keyspace_name='{keyspace}' AND table_name='{table}';\")\n",
    "print(f\"\\n📊 Columns in {keyspace}.{table}:\")\n",
    "for row in rows:\n",
    "    print(f\"- {row.column_name} ({row.kind}): {row.type}\")"
   ]
  },
  {
   "cell_type": "code",
   "execution_count": 9,
   "id": "dd46b771",
   "metadata": {},
   "outputs": [],
   "source": [
    "session.set_keyspace('settrade_api')"
   ]
  },
  {
   "cell_type": "code",
   "execution_count": 17,
   "id": "2c2041d0",
   "metadata": {},
   "outputs": [],
   "source": [
    "rows = session.execute(\"\"\"\n",
    "    SELECT * FROM candlestick_data WHERE symbol = 'JKN' ALLOW FILTERING;\n",
    "\"\"\")"
   ]
  },
  {
   "cell_type": "code",
   "execution_count": 18,
   "id": "47e23990",
   "metadata": {},
   "outputs": [],
   "source": [
    "df = pd.DataFrame(rows, columns=[\n",
    "    'symbol', 'time', 'open_price', 'high_price', 'low_price', 'close_price', 'volume', 'value'\n",
    "])\n",
    "\n",
    "# ✅ แปลงชนิดเวลา + เรียงลำดับ\n",
    "df['time'] = pd.to_datetime(df['time'])\n",
    "df = df.sort_values('time').reset_index(drop=True)"
   ]
  },
  {
   "cell_type": "code",
   "execution_count": 19,
   "id": "df65db5f",
   "metadata": {},
   "outputs": [
    {
     "data": {
      "text/html": [
       "<div>\n",
       "<style scoped>\n",
       "    .dataframe tbody tr th:only-of-type {\n",
       "        vertical-align: middle;\n",
       "    }\n",
       "\n",
       "    .dataframe tbody tr th {\n",
       "        vertical-align: top;\n",
       "    }\n",
       "\n",
       "    .dataframe thead th {\n",
       "        text-align: right;\n",
       "    }\n",
       "</style>\n",
       "<table border=\"1\" class=\"dataframe\">\n",
       "  <thead>\n",
       "    <tr style=\"text-align: right;\">\n",
       "      <th></th>\n",
       "      <th>symbol</th>\n",
       "      <th>time</th>\n",
       "      <th>open_price</th>\n",
       "      <th>high_price</th>\n",
       "      <th>low_price</th>\n",
       "      <th>close_price</th>\n",
       "      <th>volume</th>\n",
       "      <th>value</th>\n",
       "    </tr>\n",
       "  </thead>\n",
       "  <tbody>\n",
       "    <tr>\n",
       "      <th>0</th>\n",
       "      <td>2024-09-12</td>\n",
       "      <td>1970-01-01</td>\n",
       "      <td>0.31</td>\n",
       "      <td>0.26</td>\n",
       "      <td>0.30</td>\n",
       "      <td>JKN</td>\n",
       "      <td>7673886.0</td>\n",
       "      <td>27529083</td>\n",
       "    </tr>\n",
       "    <tr>\n",
       "      <th>1</th>\n",
       "      <td>2024-09-06</td>\n",
       "      <td>1970-01-01</td>\n",
       "      <td>0.35</td>\n",
       "      <td>0.32</td>\n",
       "      <td>0.34</td>\n",
       "      <td>JKN</td>\n",
       "      <td>6682106.0</td>\n",
       "      <td>20066358</td>\n",
       "    </tr>\n",
       "    <tr>\n",
       "      <th>2</th>\n",
       "      <td>2024-09-05</td>\n",
       "      <td>1970-01-01</td>\n",
       "      <td>0.37</td>\n",
       "      <td>0.33</td>\n",
       "      <td>0.37</td>\n",
       "      <td>JKN</td>\n",
       "      <td>6593577.5</td>\n",
       "      <td>19003496</td>\n",
       "    </tr>\n",
       "    <tr>\n",
       "      <th>3</th>\n",
       "      <td>2024-09-13</td>\n",
       "      <td>1970-01-01</td>\n",
       "      <td>0.29</td>\n",
       "      <td>0.27</td>\n",
       "      <td>0.28</td>\n",
       "      <td>JKN</td>\n",
       "      <td>4598449.0</td>\n",
       "      <td>16862624</td>\n",
       "    </tr>\n",
       "    <tr>\n",
       "      <th>4</th>\n",
       "      <td>2024-09-03</td>\n",
       "      <td>1970-01-01</td>\n",
       "      <td>0.44</td>\n",
       "      <td>0.37</td>\n",
       "      <td>0.38</td>\n",
       "      <td>JKN</td>\n",
       "      <td>24323800.0</td>\n",
       "      <td>60150728</td>\n",
       "    </tr>\n",
       "  </tbody>\n",
       "</table>\n",
       "</div>"
      ],
      "text/plain": [
       "      symbol       time  open_price  high_price  low_price close_price  \\\n",
       "0 2024-09-12 1970-01-01        0.31        0.26       0.30         JKN   \n",
       "1 2024-09-06 1970-01-01        0.35        0.32       0.34         JKN   \n",
       "2 2024-09-05 1970-01-01        0.37        0.33       0.37         JKN   \n",
       "3 2024-09-13 1970-01-01        0.29        0.27       0.28         JKN   \n",
       "4 2024-09-03 1970-01-01        0.44        0.37       0.38         JKN   \n",
       "\n",
       "       volume     value  \n",
       "0   7673886.0  27529083  \n",
       "1   6682106.0  20066358  \n",
       "2   6593577.5  19003496  \n",
       "3   4598449.0  16862624  \n",
       "4  24323800.0  60150728  "
      ]
     },
     "execution_count": 19,
     "metadata": {},
     "output_type": "execute_result"
    }
   ],
   "source": [
    "df.head()"
   ]
  },
  {
   "cell_type": "code",
   "execution_count": null,
   "id": "089a3c65",
   "metadata": {},
   "outputs": [],
   "source": []
  }
 ],
 "metadata": {
  "kernelspec": {
   "display_name": "Python 3",
   "language": "python",
   "name": "python3"
  },
  "language_info": {
   "codemirror_mode": {
    "name": "ipython",
    "version": 3
   },
   "file_extension": ".py",
   "mimetype": "text/x-python",
   "name": "python",
   "nbconvert_exporter": "python",
   "pygments_lexer": "ipython3",
   "version": "3.10.2"
  }
 },
 "nbformat": 4,
 "nbformat_minor": 5
}
