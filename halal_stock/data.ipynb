{
 "cells": [
  {
   "cell_type": "code",
   "execution_count": 1,
   "id": "94eb5c4d",
   "metadata": {},
   "outputs": [],
   "source": [
    "import pandas as pd\n",
    "import numpy as np\n",
    "import os\n",
    "from cassandra.cluster import Cluster\n",
    "from datetime import datetime\n",
    "import plotly.graph_objects as go\n",
    "import yfinance as yf\n",
    "import uuid\n"
   ]
  },
  {
   "cell_type": "code",
   "execution_count": 2,
   "id": "745a2e2b",
   "metadata": {},
   "outputs": [],
   "source": [
    "cluster = Cluster(['127.0.0.1']) \n",
    "session = cluster.connect()"
   ]
  },
  {
   "cell_type": "code",
   "execution_count": 3,
   "id": "3409d8a6",
   "metadata": {},
   "outputs": [],
   "source": [
    "keyspace_name='settrade_api'\n",
    "session.execute(f\"CREATE KEYSPACE IF NOT EXISTS {keyspace_name} WITH REPLICATION = {{ 'class': 'SimpleStrategy', 'replication_factor': 1 }};\")\n",
    "session.set_keyspace(keyspace_name)"
   ]
  },
  {
   "cell_type": "code",
   "execution_count": 4,
   "id": "d3bec135",
   "metadata": {},
   "outputs": [],
   "source": [
    "session.set_keyspace('settrade_api')"
   ]
  },
  {
   "cell_type": "code",
   "execution_count": 5,
   "id": "3cbda6f3",
   "metadata": {},
   "outputs": [
    {
     "data": {
      "text/plain": [
       "<cassandra.cluster.ResultSet at 0x22f45c9e920>"
      ]
     },
     "execution_count": 5,
     "metadata": {},
     "output_type": "execute_result"
    }
   ],
   "source": [
    "session.execute(\"\"\"\n",
    "CREATE TABLE IF NOT EXISTS financial_data (\n",
    "    ticker TEXT PRIMARY KEY,\n",
    "    name TEXT,\n",
    "    sector TEXT,\n",
    "    industry TEXT,\n",
    "    total_debt DOUBLE,\n",
    "    total_assets DOUBLE,\n",
    "    total_revenue DOUBLE,\n",
    "    interest_income DOUBLE,\n",
    "    long_business_summary TEXT\n",
    ")\n",
    "\"\"\")"
   ]
  },
  {
   "cell_type": "code",
   "execution_count": 6,
   "id": "f24ea696",
   "metadata": {},
   "outputs": [
    {
     "name": "stdout",
     "output_type": "stream",
     "text": [
      "❌ ไม่พบไฟล์ Excel — ใช้รายชื่อหุ้นสำรอง\n",
      "📥 Fetching PTT.BK...\n",
      "✅ Inserted PTT.BK successfully.\n",
      "📥 Fetching AOT.BK...\n",
      "✅ Inserted AOT.BK successfully.\n",
      "📥 Fetching SCB.BK...\n",
      "✅ Inserted SCB.BK successfully.\n",
      "📥 Fetching CPALL.BK...\n",
      "✅ Inserted CPALL.BK successfully.\n",
      "📥 Fetching ADVANC.BK...\n",
      "✅ Inserted ADVANC.BK successfully.\n"
     ]
    }
   ],
   "source": [
    "\n",
    "# ✅ เตรียม Insert Statement นอกลูป\n",
    "insert_stmt = session.prepare(\"\"\"\n",
    "INSERT INTO financial_data (\n",
    "    ticker, name, sector, industry,\n",
    "    total_debt, total_assets, total_revenue,\n",
    "    interest_income, long_business_summary\n",
    ") VALUES (?, ?, ?, ?, ?, ?, ?, ?, ?)\n",
    "\"\"\")\n",
    "\n",
    "# ✅ โหลดรายชื่อหุ้น\n",
    "try:\n",
    "    symbols_df = pd.read_excel(\"stocth_names.xlsx\")\n",
    "    symbols = symbols_df['หลักทรัพย์'].dropna().astype(str).tolist()\n",
    "    print(f\"✅ Loaded {len(symbols)} symbols from Excel.\")\n",
    "except FileNotFoundError:\n",
    "    print(\"❌ ไม่พบไฟล์ Excel — ใช้รายชื่อหุ้นสำรอง\")\n",
    "    symbols = [\"PTT\", \"AOT\", \"SCB\", \"CPALL\", \"ADVANC\"]\n",
    "\n",
    "# 🔧 แปลงเป็น ticker แบบที่ใช้กับ yfinance\n",
    "tickers = [symbol.strip().upper() + \".BK\" for symbol in symbols]\n",
    "\n",
    "# 🔁 ดึงและโหลดข้อมูลทีละตัว\n",
    "for ticker in tickers:\n",
    "    try:\n",
    "        print(f\"📥 Fetching {ticker}...\")\n",
    "        stock = yf.Ticker(ticker)\n",
    "        info = stock.info\n",
    "\n",
    "        # 🔍 ดึงข้อมูลที่จำเป็น\n",
    "        name = info.get('shortName', '')\n",
    "        sector = info.get('sector', '')\n",
    "        industry = info.get('industry', '')\n",
    "        summary = info.get('longBusinessSummary', '')\n",
    "\n",
    "        total_debt = float(info.get('totalDebt', 0.0) or 0.0)\n",
    "        total_assets = float(info.get('totalAssets', 1.0) or 1.0)\n",
    "        total_revenue = float(info.get('totalRevenue', 0.0) or 0.0)\n",
    "\n",
    "        # 🔸 ประเมิน interest income จาก EBITDA margin\n",
    "        ebitda_margin = float(info.get('ebitdaMargins', 0.0) or 0.0)\n",
    "        interest_income = ebitda_margin * total_assets\n",
    "\n",
    "        # ✅ Insert ลง Cassandra\n",
    "        session.execute(insert_stmt, (\n",
    "            ticker, name, sector, industry,\n",
    "            total_debt, total_assets, total_revenue,\n",
    "            interest_income, summary\n",
    "        ))\n",
    "\n",
    "        print(f\"✅ Inserted {ticker} successfully.\")\n",
    "\n",
    "    except Exception as e:\n",
    "        print(f\"❌ Error with {ticker}: {e}\")\n"
   ]
  },
  {
   "cell_type": "code",
   "execution_count": 7,
   "id": "58e012ec",
   "metadata": {},
   "outputs": [
    {
     "name": "stdout",
     "output_type": "stream",
     "text": [
      "📥 Fetching PTT.BK...\n",
      "✅ PTT.BK inserted.\n",
      "📥 Fetching AOT.BK...\n",
      "✅ AOT.BK inserted.\n",
      "📥 Fetching SCB.BK...\n",
      "✅ SCB.BK inserted.\n",
      "📥 Fetching CPALL.BK...\n",
      "✅ CPALL.BK inserted.\n",
      "📥 Fetching ADVANC.BK...\n",
      "✅ ADVANC.BK inserted.\n",
      "❌ ไม่พบไฟล์ Excel — ใช้รายชื่อหุ้นสำรอง\n"
     ]
    }
   ],
   "source": [
    "# 🔁 ดึงและโหลดทีละตัว\n",
    "for ticker in tickers:\n",
    "    try:\n",
    "        print(f\"📥 Fetching {ticker}...\")\n",
    "        stock = yf.Ticker(ticker)\n",
    "        info = stock.info\n",
    "\n",
    "        # 🔍 ดึงข้อมูลที่จำเป็น\n",
    "        name = info.get('shortName', '')\n",
    "        sector = info.get('sector', '')\n",
    "        industry = info.get('industry', '')\n",
    "        summary = info.get('longBusinessSummary', '')\n",
    "\n",
    "        total_debt = float(info.get('totalDebt', 0.0) or 0.0)\n",
    "        total_assets = float(info.get('totalAssets', 1.0) or 1.0)\n",
    "        total_revenue = float(info.get('totalRevenue', 0.0) or 0.0)\n",
    "\n",
    "        # interest income ไม่มีใน yfinance → ประเมินจาก EBITDA Margin\n",
    "        ebitda_margin = float(info.get('ebitdaMargins', 0.0) or 0.0)\n",
    "        interest_income = ebitda_margin * total_assets\n",
    "        insert_stmt = session.prepare(\"\"\"\n",
    "INSERT INTO financial_data (\n",
    "    ticker, name, sector, industry,\n",
    "    total_debt, total_assets, total_revenue,\n",
    "    interest_income, long_business_summary\n",
    ") VALUES (?, ?, ?, ?, ?, ?, ?, ?, ?)\n",
    "\"\"\")\n",
    "        # ✅ Insert ลง Cassandra\n",
    "        session.execute(insert_stmt, (\n",
    "            ticker, name, sector, industry,\n",
    "            total_debt, total_assets, total_revenue,\n",
    "            interest_income, summary\n",
    "        ))\n",
    "\n",
    "        print(f\"✅ {ticker} inserted.\")\n",
    "\n",
    "    except Exception as e:\n",
    "        print(f\"❌ Error with {ticker}: {e}\")\n",
    "try:\n",
    "    symbols_df = pd.read_excel(\"stocth_names.xlsx\")\n",
    "    symbols = symbols_df['หลักทรัพย์'].dropna().tolist()\n",
    "except FileNotFoundError:\n",
    "    print(\"❌ ไม่พบไฟล์ Excel — ใช้รายชื่อหุ้นสำรอง\")\n",
    "    symbols = [\"PTT\", \"AOT\", \"SCB\", \"CPALL\", \"ADVANC\"]"
   ]
  }
 ],
 "metadata": {
  "kernelspec": {
   "display_name": "Python 3",
   "language": "python",
   "name": "python3"
  },
  "language_info": {
   "codemirror_mode": {
    "name": "ipython",
    "version": 3
   },
   "file_extension": ".py",
   "mimetype": "text/x-python",
   "name": "python",
   "nbconvert_exporter": "python",
   "pygments_lexer": "ipython3",
   "version": "3.10.2"
  }
 },
 "nbformat": 4,
 "nbformat_minor": 5
}
